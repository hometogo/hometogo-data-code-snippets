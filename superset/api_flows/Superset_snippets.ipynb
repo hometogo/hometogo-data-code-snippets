{
 "cells": [
  {
   "cell_type": "code",
   "execution_count": null,
   "metadata": {},
   "outputs": [],
   "source": [
    "import yaml\n",
    "import glob\n",
    "import pandas as pd\n",
    "import requests\n",
    "from bs4 import BeautifulSoup\n",
    "import json\n",
    "import numpy as np\n",
    "\n",
    "#API authorizations\n",
    "from requests_oauthlib import OAuth2Session\n",
    "from oauthlib.oauth2 import LegacyApplicationClient\n",
    "import requests"
   ]
  },
  {
   "cell_type": "markdown",
   "metadata": {},
   "source": [
    "## API Authorizations"
   ]
  },
  {
   "cell_type": "code",
   "execution_count": null,
   "metadata": {},
   "outputs": [],
   "source": [
    "from requests_oauthlib import OAuth2Session\n",
    "from oauthlib.oauth2 import LegacyApplicationClient\n",
    "username='username'\n",
    "password='password'\n",
    "client_id='client_id'\n",
    "client_secret='client_secret'\n",
    "token_url='token_url'\n",
    "api_pointer='http://your.url/api/v1/'\n",
    "\n",
    "\n",
    "username='syst-superset-api'\n",
    "password='}V(LuGpDs_M?.2=`'\n",
    "client_id='superset-api'\n",
    "client_secret='1d6f4fac-d580-4ca3-8e9b-8e636e0c998b'\n",
    "token_url='https://sso.hometogo.rocks/auth/realms/hometogo/protocol/openid-connect/token'\n",
    "api_pointer='http://superset.kube-dev.hometogo.rocks/api/v1/'\n",
    "\n",
    "params={\n",
    "  \"order_column\": \"changed_on\",\n",
    "  \"order_direction\": \"asc\",\n",
    "  \"page\": 0,\n",
    "  \"page_size\": 2\n",
    "}\n",
    "\n",
    "oauth = OAuth2Session(client=LegacyApplicationClient(client_id=client_id))\n",
    "token = oauth.fetch_token(token_url=token_url,\n",
    "        username=username, password=password, client_id=client_id,\n",
    "        client_secret=client_secret)"
   ]
  },
  {
   "cell_type": "markdown",
   "metadata": {},
   "source": [
    "Example request"
   ]
  },
  {
   "cell_type": "code",
   "execution_count": null,
   "metadata": {
    "scrolled": false
   },
   "outputs": [],
   "source": [
    "#Applying filters on datasets\n",
    "rison_request='dataset/?q=(page_size:100,order_column:changed_on_delta_humanized,order_direction:asc,filters:!((col:database,opr:rel_o_m,value:2)))'\n",
    "request_body=api_pointer+rison_request\n",
    "response = requests.get(\n",
    "request_body, \n",
    "    headers={'Authorization': 'Bearer {}'.format(token['access_token'])},\n",
    "    params=params\n",
    ")\n",
    "response=response.json()"
   ]
  },
  {
   "cell_type": "markdown",
   "metadata": {},
   "source": [
    "## Swapping database for datasets"
   ]
  },
  {
   "cell_type": "code",
   "execution_count": null,
   "metadata": {},
   "outputs": [],
   "source": [
    "token = oauth.fetch_token(token_url=token_url,\n",
    "        username=username, password=password, client_id=client_id,\n",
    "        client_secret=client_secret)\n",
    "rison_request='dataset'\n",
    "request_body=api_pointer+rison_request\n",
    "response = requests.get(\n",
    "request_body, \n",
    "    headers={'Authorization': 'Bearer {}'.format(token['access_token'])},\n",
    "    params=params\n",
    ")\n",
    "response=response.json()"
   ]
  },
  {
   "cell_type": "code",
   "execution_count": null,
   "metadata": {
    "scrolled": true
   },
   "outputs": [],
   "source": [
    "for i in response['ids']:\n",
    "    rison_request='dataset/'+str(i)\n",
    "    request_body=api_pointer+rison_request\n",
    "\n",
    "    # Data to be written \n",
    "    dictionary ={ \n",
    "      \"database_id\": 2 #parameter that will be set after the API call is executed\n",
    "    } \n",
    "\n",
    "    # Serializing json  \n",
    "    json_object = json.dumps(dictionary) \n",
    "\n",
    "    response = requests.put(\n",
    "    request_body, \n",
    "        headers={'Authorization': 'Bearer {}'.format(token['access_token'])},\n",
    "        json=dictionary\n",
    "    )"
   ]
  },
  {
   "cell_type": "code",
   "execution_count": null,
   "metadata": {},
   "outputs": [],
   "source": [
    "#Single example of a change \n",
    "\n",
    "rison_request='dataset/20'\n",
    "request_body=api_pointer+rison_request\n",
    "\n",
    "# Data to be written \n",
    "dictionary ={ \n",
    "  \"database_id\": 2\n",
    "} \n",
    "      \n",
    "# Serializing json  \n",
    "json_object = json.dumps(dictionary) \n",
    "\n",
    "response = requests.put(\n",
    "request_body, \n",
    "    headers={'Authorization': 'Bearer {}'.format(token['access_token'])},\n",
    "    json=dictionary\n",
    ")"
   ]
  },
  {
   "cell_type": "code",
   "execution_count": null,
   "metadata": {},
   "outputs": [],
   "source": [
    "response.json()"
   ]
  },
  {
   "cell_type": "markdown",
   "metadata": {},
   "source": [
    "## Refreshing columns for active physical datasets"
   ]
  },
  {
   "cell_type": "code",
   "execution_count": null,
   "metadata": {},
   "outputs": [],
   "source": [
    "#Active datasets: not named archived\n",
    "#Physical datasets: exported right away from the data base\n",
    "import requests\n",
    "rison_request='dataset/?q=(page_size:1,page:0,order_column:changed_on_delta_humanized,order_direction:asc,filters:!((col:table_name,opr:nct,value:archived),(col:sql,opr:dataset_is_null_or_empty,value:true)))'\n",
    "request_body=api_pointer+rison_request\n",
    "response = requests.get(\n",
    "request_body, \n",
    "    headers={'Authorization': 'Bearer {}'.format(token['access_token'])},\n",
    "    params=params\n",
    ")\n",
    "response=response.json()"
   ]
  },
  {
   "cell_type": "code",
   "execution_count": null,
   "metadata": {},
   "outputs": [],
   "source": [
    "number_of_elemnts=response['count']\n",
    "page_size=20\n",
    "scans_needed=number_of_elemnts//page_size+1\n",
    "elements=[]"
   ]
  },
  {
   "cell_type": "code",
   "execution_count": null,
   "metadata": {},
   "outputs": [],
   "source": [
    "for i in range(0,scans_needed):\n",
    "    page_number=str(i)\n",
    "    rison_request=f'dataset/?q=(page_size:{page_size},page:{page_number},order_column:changed_on_delta_humanized,order_direction:asc,filters:!((col:table_name,opr:nct,value:archived),(col:sql,opr:dataset_is_null_or_empty,value:true)))'\n",
    "    request_body=api_pointer+rison_request\n",
    "    response = requests.get(\n",
    "    request_body, \n",
    "        headers={'Authorization': 'Bearer {}'.format(token['access_token'])},\n",
    "        params=params\n",
    "    )\n",
    "    response=response.json()\n",
    "    elements.extend(response['ids'])"
   ]
  },
  {
   "cell_type": "code",
   "execution_count": null,
   "metadata": {},
   "outputs": [],
   "source": [
    "#Remove duplicates\n",
    "elements=list(dict.fromkeys(elements))"
   ]
  },
  {
   "cell_type": "code",
   "execution_count": null,
   "metadata": {},
   "outputs": [],
   "source": [
    "for i in elements:\n",
    "    element_number=str(i)\n",
    "    rison_request=f'dataset/{element_number}/refresh'\n",
    "    request_body=api_pointer+rison_request\n",
    "    response = requests.put(\n",
    "    request_body, \n",
    "        headers={'Authorization': 'Bearer {}'.format(token['access_token'])}\n",
    "    )"
   ]
  },
  {
   "cell_type": "markdown",
   "metadata": {},
   "source": [
    "## Swapping charts source"
   ]
  },
  {
   "cell_type": "markdown",
   "metadata": {},
   "source": [
    "For a given dashboard"
   ]
  },
  {
   "cell_type": "code",
   "execution_count": null,
   "metadata": {},
   "outputs": [],
   "source": [
    "dashboard_id=73 #dashboard whose charts will be swapped out"
   ]
  },
  {
   "cell_type": "code",
   "execution_count": null,
   "metadata": {},
   "outputs": [],
   "source": [
    "access_token=token_request()\n",
    "\n",
    "import requests\n",
    "api_pointer='http://superset.kube-dev.hometogo.rocks/api/v1/'\n",
    "rison_request=f'dashboard/{dashboard_id}/charts'\n",
    "request_body=api_pointer+rison_request\n",
    "response = requests.get(\n",
    "request_body, \n",
    "    headers={'Authorization': 'Bearer {}'.format(access_token)},\n",
    "    params=params\n",
    ")\n",
    "response=response.json()"
   ]
  },
  {
   "cell_type": "code",
   "execution_count": null,
   "metadata": {},
   "outputs": [],
   "source": [
    "for i in range(0,len(response['result'])):\n",
    "    slice_id=response['result'][i]['form_data']['slice_id']\n",
    "    rison_request=f'chart/{slice_id}'\n",
    "    request_body=api_pointer+rison_request\n",
    "    response = requests.get(\n",
    "    request_body, \n",
    "        headers={'Authorization': 'Bearer {}'.format(access_token)},\n",
    "        params=params\n",
    "    )\n",
    "    r_charts=response.json()\n",
    "    slice_name=r_charts['result']['slice_name']\n",
    "    print(str(i)+' , '+str(slice_id) + ' , '+ slice_name)"
   ]
  },
  {
   "cell_type": "code",
   "execution_count": null,
   "metadata": {},
   "outputs": [],
   "source": [
    "access_token=token_request()\n",
    "for i in range(0,len(response['result'])):\n",
    "    slice_id=response['result'][i]['form_data']['slice_id']\n",
    "    rison_request=f'chart/{slice_id}'\n",
    "    request_body=api_pointer+rison_request\n",
    "    response = requests.get(\n",
    "    request_body, \n",
    "        headers={'Authorization': 'Bearer {}'.format(access_token)},\n",
    "        params=params\n",
    "    )\n",
    "    r_charts=response.json()\n",
    "    slice_name=r_charts['result']['slice_name']\n",
    "    swap_chart_dataset(access_token,slice_id=slice_id,destination_dataset=711)\n",
    "    print(str(i)+' , '+str(slice_id) + ' , '+ slice_name+' already swapped')"
   ]
  },
  {
   "cell_type": "markdown",
   "metadata": {},
   "source": [
    "For a given dataset"
   ]
  },
  {
   "cell_type": "code",
   "execution_count": null,
   "metadata": {},
   "outputs": [],
   "source": [
    "def swap_chart_dataset(token, slice_id, destination_dataset, api_pointer=api_pointer):\n",
    "    rison_request=f'chart/{slice_id}'\n",
    "    request_body=api_pointer+rison_request\n",
    "    # Data to be written \n",
    "    dictionary ={\n",
    "      \"datasource_id\": destination_dataset,\n",
    "      \"datasource_type\": \"table\"\n",
    "    }\n",
    "    # Serializing json  \n",
    "    json_object = json.dumps(dictionary) \n",
    "    response = requests.put(\n",
    "    request_body, \n",
    "        headers={'Authorization': 'Bearer {}'.format(token)},\n",
    "        json=dictionary\n",
    "    )"
   ]
  },
  {
   "cell_type": "code",
   "execution_count": null,
   "metadata": {},
   "outputs": [],
   "source": [
    "for i in range(0, len(chart_list)):\n",
    "    access_token=token_request()\n",
    "    print(chart_list[i]['id'])\n",
    "    swap_chart_dataset(token=access_token, slice_id=chart_list[i]['id'], destination_dataset=1)"
   ]
  },
  {
   "cell_type": "markdown",
   "metadata": {},
   "source": [
    "## Add saved queries using the API"
   ]
  },
  {
   "cell_type": "markdown",
   "metadata": {},
   "source": [
    "For this to work, the query needs to run a query in the production DB. Further info in this link: \n",
    "https://apache-superset.slack.com/archives/C015WAZL0KH/p1643719968410269"
   ]
  },
  {
   "cell_type": "code",
   "execution_count": null,
   "metadata": {},
   "outputs": [],
   "source": [
    "def saved_queries_swap_owner(access_token,superset_owner_id, db_id, sql, query_tags, query_name,query_to_add_id, api_pointer):\n",
    "    access_token=access_token\n",
    "    #Defining parameters\n",
    "    superset_id=superset_owner_id\n",
    "    db_id=db_id\n",
    "    sql=sql\n",
    "    query_to_add_id=query_to_add_id\n",
    "    schema='reporting'\n",
    "    query_tags=query_tags\n",
    "    name=name\n",
    "    label=str(query_tags).replace(',', '_').lower()+'.'+str(query_name).lower()\n",
    "\n",
    "    #Executing the function\n",
    "    api_pointer=api_pointer\n",
    "    rison_request='saved_query/'\n",
    "    request_body=api_pointer+rison_request\n",
    "    # Data to be written \n",
    "    dictionary ={\n",
    "      \"db_id\": db_id,\n",
    "      \"description\": \"Old Id \"+str(query_to_add_id),\n",
    "      \"label\": label,\n",
    "      \"schema\": schema,\n",
    "      \"sql\": sql\n",
    "    }\n",
    "    # Serializing json  \n",
    "    json_object = json.dumps(dictionary) \n",
    "    access_token=token_request()\n",
    "    response = requests.post(\n",
    "    request_body, \n",
    "        headers={'Authorization': 'Bearer {}'.format(access_token)},\n",
    "        json=dictionary\n",
    "    )\n",
    "    #Saving the saved query id\n",
    "    superset_saved_query_id=response.json()['id']\n",
    "    superset_id=int(superset_id)\n",
    "    transform_query='''UPDATE saved_query SET user_id = {0}, changed_by_fk= {0}, created_by_fk = {0} WHERE id={1};'''.format(superset_id, superset_saved_query_id)\n",
    "    output=[superset_saved_query_id,transform_query]\n",
    "    return output"
   ]
  }
 ],
 "metadata": {
  "kernelspec": {
   "display_name": "Python 3",
   "language": "python",
   "name": "python3"
  },
  "language_info": {
   "codemirror_mode": {
    "name": "ipython",
    "version": 3
   },
   "file_extension": ".py",
   "mimetype": "text/x-python",
   "name": "python",
   "nbconvert_exporter": "python",
   "pygments_lexer": "ipython3",
   "version": "3.8.5"
  }
 },
 "nbformat": 4,
 "nbformat_minor": 4
}
